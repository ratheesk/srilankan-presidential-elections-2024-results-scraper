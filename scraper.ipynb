{
 "cells": [
  {
   "cell_type": "code",
   "execution_count": 1,
   "metadata": {},
   "outputs": [
    {
     "name": "stdout",
     "output_type": "stream",
     "text": [
      "Successfully fetched the webpage!\n"
     ]
    }
   ],
   "source": [
    "import requests\n",
    "\n",
    "url = \"https://results.elections.gov.lk/\"\n",
    "response = requests.get(url)\n",
    "\n",
    "if response.status_code == 200:\n",
    "    print(\"Successfully fetched the webpage!\")\n",
    "else:\n",
    "    print(f\"Failed to retrieve the webpage. Status code: {response.status_code}\")"
   ]
  },
  {
   "cell_type": "code",
   "execution_count": 2,
   "metadata": {},
   "outputs": [
    {
     "name": "stdout",
     "output_type": "stream",
     "text": [
      "Live Sri Lanka Presidential Election Results 2024 | Real-Time Results\n"
     ]
    }
   ],
   "source": [
    "from bs4 import BeautifulSoup\n",
    "\n",
    "# Parse the HTML content\n",
    "soup = BeautifulSoup(response.text, 'html.parser')\n",
    "\n",
    "# Print the title of the webpage to confirm parsing\n",
    "print(soup.title.text)"
   ]
  },
  {
   "cell_type": "code",
   "execution_count": 4,
   "metadata": {},
   "outputs": [
    {
     "name": "stdout",
     "output_type": "stream",
     "text": [
      "{'candidate': 'ANURA KUMARA DISSANAYAKE', 'party': 'NPP', 'total_votes': 5634915, 'preferences': 105264, 'total': 5740179}\n",
      "{'candidate': 'SAJITH PREMADASA', 'party': 'SJB', 'total_votes': 4363035, 'preferences': 167867, 'total': 4530902}\n"
     ]
    }
   ],
   "source": [
    "# Extracting All Island Final Results\n",
    "all_island_results_section = soup.find('h4', text='All Island final Result').find_next('table')\n",
    "\n",
    "all_island_results = []\n",
    "for row in all_island_results_section.find_all('tr')[1:]:  # Skip the header row\n",
    "    columns = row.find_all('td')\n",
    "    if len(columns) > 0:\n",
    "        candidate = columns[0].text.strip()\n",
    "        party = columns[1].text.strip()\n",
    "        total_votes = columns[2].text.strip().replace(',', '')\n",
    "        preferences = columns[3].text.strip().replace(',', '')\n",
    "        total = columns[4].text.strip().replace(',', '')\n",
    "\n",
    "        all_island_results.append({\n",
    "            'candidate': candidate,\n",
    "            'party': party,\n",
    "            'total_votes': int(total_votes),\n",
    "            'preferences': int(preferences),\n",
    "            'total': int(total)\n",
    "        })\n",
    "\n",
    "# Display the extracted All Island results\n",
    "for result in all_island_results:\n",
    "    print(result)"
   ]
  },
  {
   "cell_type": "code",
   "execution_count": 5,
   "metadata": {},
   "outputs": [
    {
     "name": "stdout",
     "output_type": "stream",
     "text": [
      "{'candidate': 'ANURA KUMARA DISSANAYAKE', 'party': 'NPP', 'preferences': 105264}\n",
      "{'candidate': 'SAJITH PREMADASA', 'party': 'SJB', 'preferences': 167867}\n"
     ]
    }
   ],
   "source": [
    "# Extracting All Island Preference Results\n",
    "preference_results_section = soup.find('h4', text='All Island Preference Result').find_next('table')\n",
    "\n",
    "preference_results = []\n",
    "for row in preference_results_section.find_all('tr')[1:]:  # Skip the header row\n",
    "    columns = row.find_all('td')\n",
    "    if len(columns) > 0:\n",
    "        candidate = columns[0].text.strip()\n",
    "        party = columns[1].text.strip()\n",
    "        preferences = columns[2].text.strip().replace(',', '')\n",
    "\n",
    "        preference_results.append({\n",
    "            'candidate': candidate,\n",
    "            'party': party,\n",
    "            'preferences': int(preferences)\n",
    "        })\n",
    "\n",
    "# Display the extracted Preference results\n",
    "for result in preference_results:\n",
    "    print(result)"
   ]
  },
  {
   "cell_type": "code",
   "execution_count": 7,
   "metadata": {},
   "outputs": [
    {
     "name": "stdout",
     "output_type": "stream",
     "text": [
      "\n",
      "Extracted All Island Results:\n",
      "Candidate: ANURA KUMARA DISSANAYAKE, Party: NPP, Votes Received: 5634915, Percentage: 42.31%\n",
      "Candidate: SAJITH PREMADASA, Party: SJB, Votes Received: 4363035, Percentage: 32.76%\n",
      "Candidate: RANIL WICKREMESINGHE, Party: IND16, Votes Received: 2299767, Percentage: 17.27%\n",
      "Candidate: NAMAL RAJAPAKSA, Party: SLPP, Votes Received: 342781, Percentage: 2.57%\n",
      "Candidate: ARIYANETHIRAN PAKKIYASELVAM, Party: IND9, Votes Received: 226343, Percentage: 1.7%\n"
     ]
    }
   ],
   "source": [
    "# Extracting All Island Results\n",
    "all_island_results_section = soup.find('h4', text='All Island Results')\n",
    "\n",
    "# Check if the section is found\n",
    "if all_island_results_section is not None:\n",
    "    all_island_results_section = all_island_results_section.find_next('table')\n",
    "\n",
    "    all_island_results = []\n",
    "    for row in all_island_results_section.find_all('tr')[1:]:  # Skip the header row\n",
    "        columns = row.find_all('td')\n",
    "        if len(columns) > 0:\n",
    "            candidate = columns[0].text.strip()\n",
    "            party = columns[1].text.strip()\n",
    "            votes_received = columns[2].text.strip().replace(',', '')\n",
    "            percentage = columns[3].text.strip()\n",
    "\n",
    "            all_island_results.append({\n",
    "                'candidate': candidate,\n",
    "                'party': party,\n",
    "                'votes_received': int(votes_received),\n",
    "                'percentage': percentage\n",
    "            })\n",
    "\n",
    "    # Display the extracted All Island results\n",
    "    print(\"\\nExtracted All Island Results:\")\n",
    "    for result in all_island_results[:5]:  # Print first 5 results\n",
    "        print(f\"Candidate: {result['candidate']}, Party: {result['party']}, Votes Received: {result['votes_received']}, Percentage: {result['percentage']}\")\n",
    "else:\n",
    "    print(\"Section 'All Island Results' not found.\")\n"
   ]
  }
 ],
 "metadata": {
  "kernelspec": {
   "display_name": "base",
   "language": "python",
   "name": "python3"
  },
  "language_info": {
   "codemirror_mode": {
    "name": "ipython",
    "version": 3
   },
   "file_extension": ".py",
   "mimetype": "text/x-python",
   "name": "python",
   "nbconvert_exporter": "python",
   "pygments_lexer": "ipython3",
   "version": "3.9.12"
  }
 },
 "nbformat": 4,
 "nbformat_minor": 2
}
